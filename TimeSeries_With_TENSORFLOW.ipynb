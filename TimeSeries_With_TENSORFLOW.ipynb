{
  "nbformat": 4,
  "nbformat_minor": 0,
  "metadata": {
    "colab": {
      "provenance": [],
      "authorship_tag": "ABX9TyNZrPgrtHgnlr4JaZ4J91mi"
    },
    "kernelspec": {
      "name": "python3",
      "display_name": "Python 3"
    },
    "language_info": {
      "name": "python"
    },
    "accelerator": "GPU",
    "gpuClass": "standard"
  },
  "cells": [
    {
      "cell_type": "code",
      "execution_count": null,
      "metadata": {
        "id": "m2-z__Czeher"
      },
      "outputs": [],
      "source": [
        "# Time Series fundamentals with TensorFlow\n",
        "# We are going to predict price of BITCOIN based on the historical price of Bitcoin"
      ]
    },
    {
      "cell_type": "code",
      "source": [
        "!wget https://raw.githubusercontent.com/mrdbourke/tensorflow-deep-learning/main/extras/BTC_USD_2013-10-01_2021-05-18-CoinDesk.csv"
      ],
      "metadata": {
        "colab": {
          "base_uri": "https://localhost:8080/"
        },
        "id": "ylyJ9DAJmyfn",
        "outputId": "b1a1c99f-c34d-4c25-ce67-065f12f6196a"
      },
      "execution_count": 2,
      "outputs": [
        {
          "output_type": "stream",
          "name": "stdout",
          "text": [
            "--2023-02-08 20:45:09--  https://raw.githubusercontent.com/mrdbourke/tensorflow-deep-learning/main/extras/BTC_USD_2013-10-01_2021-05-18-CoinDesk.csv\n",
            "Resolving raw.githubusercontent.com (raw.githubusercontent.com)... 185.199.110.133, 185.199.109.133, 185.199.111.133, ...\n",
            "Connecting to raw.githubusercontent.com (raw.githubusercontent.com)|185.199.110.133|:443... connected.\n",
            "HTTP request sent, awaiting response... 200 OK\n",
            "Length: 178509 (174K) [text/plain]\n",
            "Saving to: ‘BTC_USD_2013-10-01_2021-05-18-CoinDesk.csv’\n",
            "\n",
            "BTC_USD_2013-10-01_ 100%[===================>] 174.33K  --.-KB/s    in 0.003s  \n",
            "\n",
            "2023-02-08 20:45:09 (64.3 MB/s) - ‘BTC_USD_2013-10-01_2021-05-18-CoinDesk.csv’ saved [178509/178509]\n",
            "\n"
          ]
        }
      ]
    },
    {
      "cell_type": "code",
      "source": [
        "import pandas as pd\n",
        "\n",
        "df = pd.read_csv('prices.csv',\n",
        "                 parse_dates = ['Date'],\n",
        "                 index_col = ['Date'])"
      ],
      "metadata": {
        "id": "lGuIf_3mnHos"
      },
      "execution_count": 4,
      "outputs": []
    },
    {
      "cell_type": "code",
      "source": [
        "df.head()"
      ],
      "metadata": {
        "id": "_bhXB550nxC4",
        "colab": {
          "base_uri": "https://localhost:8080/",
          "height": 238
        },
        "outputId": "395ed9cd-4d51-4c99-c7cd-4967856be598"
      },
      "execution_count": 5,
      "outputs": [
        {
          "output_type": "execute_result",
          "data": {
            "text/plain": [
              "           Currency  Closing Price (USD)  24h Open (USD)  24h High (USD)  \\\n",
              "Date                                                                       \n",
              "2013-10-01      BTC            123.65499       124.30466       124.75166   \n",
              "2013-10-02      BTC            125.45500       123.65499       125.75850   \n",
              "2013-10-03      BTC            108.58483       125.45500       125.66566   \n",
              "2013-10-04      BTC            118.67466       108.58483       118.67500   \n",
              "2013-10-05      BTC            121.33866       118.67466       121.93633   \n",
              "\n",
              "            24h Low (USD)  \n",
              "Date                       \n",
              "2013-10-01      122.56349  \n",
              "2013-10-02      123.63383  \n",
              "2013-10-03       83.32833  \n",
              "2013-10-04      107.05816  \n",
              "2013-10-05      118.00566  "
            ],
            "text/html": [
              "\n",
              "  <div id=\"df-030cbd21-0d96-4d61-b1f3-2072ee3986d9\">\n",
              "    <div class=\"colab-df-container\">\n",
              "      <div>\n",
              "<style scoped>\n",
              "    .dataframe tbody tr th:only-of-type {\n",
              "        vertical-align: middle;\n",
              "    }\n",
              "\n",
              "    .dataframe tbody tr th {\n",
              "        vertical-align: top;\n",
              "    }\n",
              "\n",
              "    .dataframe thead th {\n",
              "        text-align: right;\n",
              "    }\n",
              "</style>\n",
              "<table border=\"1\" class=\"dataframe\">\n",
              "  <thead>\n",
              "    <tr style=\"text-align: right;\">\n",
              "      <th></th>\n",
              "      <th>Currency</th>\n",
              "      <th>Closing Price (USD)</th>\n",
              "      <th>24h Open (USD)</th>\n",
              "      <th>24h High (USD)</th>\n",
              "      <th>24h Low (USD)</th>\n",
              "    </tr>\n",
              "    <tr>\n",
              "      <th>Date</th>\n",
              "      <th></th>\n",
              "      <th></th>\n",
              "      <th></th>\n",
              "      <th></th>\n",
              "      <th></th>\n",
              "    </tr>\n",
              "  </thead>\n",
              "  <tbody>\n",
              "    <tr>\n",
              "      <th>2013-10-01</th>\n",
              "      <td>BTC</td>\n",
              "      <td>123.65499</td>\n",
              "      <td>124.30466</td>\n",
              "      <td>124.75166</td>\n",
              "      <td>122.56349</td>\n",
              "    </tr>\n",
              "    <tr>\n",
              "      <th>2013-10-02</th>\n",
              "      <td>BTC</td>\n",
              "      <td>125.45500</td>\n",
              "      <td>123.65499</td>\n",
              "      <td>125.75850</td>\n",
              "      <td>123.63383</td>\n",
              "    </tr>\n",
              "    <tr>\n",
              "      <th>2013-10-03</th>\n",
              "      <td>BTC</td>\n",
              "      <td>108.58483</td>\n",
              "      <td>125.45500</td>\n",
              "      <td>125.66566</td>\n",
              "      <td>83.32833</td>\n",
              "    </tr>\n",
              "    <tr>\n",
              "      <th>2013-10-04</th>\n",
              "      <td>BTC</td>\n",
              "      <td>118.67466</td>\n",
              "      <td>108.58483</td>\n",
              "      <td>118.67500</td>\n",
              "      <td>107.05816</td>\n",
              "    </tr>\n",
              "    <tr>\n",
              "      <th>2013-10-05</th>\n",
              "      <td>BTC</td>\n",
              "      <td>121.33866</td>\n",
              "      <td>118.67466</td>\n",
              "      <td>121.93633</td>\n",
              "      <td>118.00566</td>\n",
              "    </tr>\n",
              "  </tbody>\n",
              "</table>\n",
              "</div>\n",
              "      <button class=\"colab-df-convert\" onclick=\"convertToInteractive('df-030cbd21-0d96-4d61-b1f3-2072ee3986d9')\"\n",
              "              title=\"Convert this dataframe to an interactive table.\"\n",
              "              style=\"display:none;\">\n",
              "        \n",
              "  <svg xmlns=\"http://www.w3.org/2000/svg\" height=\"24px\"viewBox=\"0 0 24 24\"\n",
              "       width=\"24px\">\n",
              "    <path d=\"M0 0h24v24H0V0z\" fill=\"none\"/>\n",
              "    <path d=\"M18.56 5.44l.94 2.06.94-2.06 2.06-.94-2.06-.94-.94-2.06-.94 2.06-2.06.94zm-11 1L8.5 8.5l.94-2.06 2.06-.94-2.06-.94L8.5 2.5l-.94 2.06-2.06.94zm10 10l.94 2.06.94-2.06 2.06-.94-2.06-.94-.94-2.06-.94 2.06-2.06.94z\"/><path d=\"M17.41 7.96l-1.37-1.37c-.4-.4-.92-.59-1.43-.59-.52 0-1.04.2-1.43.59L10.3 9.45l-7.72 7.72c-.78.78-.78 2.05 0 2.83L4 21.41c.39.39.9.59 1.41.59.51 0 1.02-.2 1.41-.59l7.78-7.78 2.81-2.81c.8-.78.8-2.07 0-2.86zM5.41 20L4 18.59l7.72-7.72 1.47 1.35L5.41 20z\"/>\n",
              "  </svg>\n",
              "      </button>\n",
              "      \n",
              "  <style>\n",
              "    .colab-df-container {\n",
              "      display:flex;\n",
              "      flex-wrap:wrap;\n",
              "      gap: 12px;\n",
              "    }\n",
              "\n",
              "    .colab-df-convert {\n",
              "      background-color: #E8F0FE;\n",
              "      border: none;\n",
              "      border-radius: 50%;\n",
              "      cursor: pointer;\n",
              "      display: none;\n",
              "      fill: #1967D2;\n",
              "      height: 32px;\n",
              "      padding: 0 0 0 0;\n",
              "      width: 32px;\n",
              "    }\n",
              "\n",
              "    .colab-df-convert:hover {\n",
              "      background-color: #E2EBFA;\n",
              "      box-shadow: 0px 1px 2px rgba(60, 64, 67, 0.3), 0px 1px 3px 1px rgba(60, 64, 67, 0.15);\n",
              "      fill: #174EA6;\n",
              "    }\n",
              "\n",
              "    [theme=dark] .colab-df-convert {\n",
              "      background-color: #3B4455;\n",
              "      fill: #D2E3FC;\n",
              "    }\n",
              "\n",
              "    [theme=dark] .colab-df-convert:hover {\n",
              "      background-color: #434B5C;\n",
              "      box-shadow: 0px 1px 3px 1px rgba(0, 0, 0, 0.15);\n",
              "      filter: drop-shadow(0px 1px 2px rgba(0, 0, 0, 0.3));\n",
              "      fill: #FFFFFF;\n",
              "    }\n",
              "  </style>\n",
              "\n",
              "      <script>\n",
              "        const buttonEl =\n",
              "          document.querySelector('#df-030cbd21-0d96-4d61-b1f3-2072ee3986d9 button.colab-df-convert');\n",
              "        buttonEl.style.display =\n",
              "          google.colab.kernel.accessAllowed ? 'block' : 'none';\n",
              "\n",
              "        async function convertToInteractive(key) {\n",
              "          const element = document.querySelector('#df-030cbd21-0d96-4d61-b1f3-2072ee3986d9');\n",
              "          const dataTable =\n",
              "            await google.colab.kernel.invokeFunction('convertToInteractive',\n",
              "                                                     [key], {});\n",
              "          if (!dataTable) return;\n",
              "\n",
              "          const docLinkHtml = 'Like what you see? Visit the ' +\n",
              "            '<a target=\"_blank\" href=https://colab.research.google.com/notebooks/data_table.ipynb>data table notebook</a>'\n",
              "            + ' to learn more about interactive tables.';\n",
              "          element.innerHTML = '';\n",
              "          dataTable['output_type'] = 'display_data';\n",
              "          await google.colab.output.renderOutput(dataTable, element);\n",
              "          const docLink = document.createElement('div');\n",
              "          docLink.innerHTML = docLinkHtml;\n",
              "          element.appendChild(docLink);\n",
              "        }\n",
              "      </script>\n",
              "    </div>\n",
              "  </div>\n",
              "  "
            ]
          },
          "metadata": {},
          "execution_count": 5
        }
      ]
    },
    {
      "cell_type": "code",
      "source": [
        "df.info()"
      ],
      "metadata": {
        "colab": {
          "base_uri": "https://localhost:8080/"
        },
        "id": "Tp2iu6Ftn2HP",
        "outputId": "3e9fa98b-7ba8-48e4-f4a9-fce1a037756d"
      },
      "execution_count": 6,
      "outputs": [
        {
          "output_type": "stream",
          "name": "stdout",
          "text": [
            "<class 'pandas.core.frame.DataFrame'>\n",
            "DatetimeIndex: 2787 entries, 2013-10-01 to 2021-05-18\n",
            "Data columns (total 5 columns):\n",
            " #   Column               Non-Null Count  Dtype  \n",
            "---  ------               --------------  -----  \n",
            " 0   Currency             2787 non-null   object \n",
            " 1   Closing Price (USD)  2787 non-null   float64\n",
            " 2   24h Open (USD)       2787 non-null   float64\n",
            " 3   24h High (USD)       2787 non-null   float64\n",
            " 4   24h Low (USD)        2787 non-null   float64\n",
            "dtypes: float64(4), object(1)\n",
            "memory usage: 130.6+ KB\n"
          ]
        }
      ]
    },
    {
      "cell_type": "code",
      "source": [
        "df.describe()"
      ],
      "metadata": {
        "colab": {
          "base_uri": "https://localhost:8080/",
          "height": 300
        },
        "id": "vuAJOzoyn33z",
        "outputId": "c9961b80-d751-4c09-90c3-61489d3161cd"
      },
      "execution_count": 7,
      "outputs": [
        {
          "output_type": "execute_result",
          "data": {
            "text/plain": [
              "       Closing Price (USD)  24h Open (USD)  24h High (USD)  24h Low (USD)\n",
              "count          2787.000000     2787.000000     2787.000000    2787.000000\n",
              "mean           6529.845141     6513.579485     6710.061683    6302.417386\n",
              "std           10887.847444    10863.800772    11206.779756   10475.811252\n",
              "min             108.584830      108.584830      118.675000      83.328330\n",
              "25%             460.087500      459.400500      469.720995     450.818830\n",
              "50%            2780.182500     2772.367500     2874.696250    2696.457500\n",
              "75%            8506.923720     8496.887593     8763.291985    8221.060570\n",
              "max           63346.789035    63562.673545    64801.787870   62094.632914"
            ],
            "text/html": [
              "\n",
              "  <div id=\"df-551b4b1b-3ca6-4ee6-87ca-7b5762a248a6\">\n",
              "    <div class=\"colab-df-container\">\n",
              "      <div>\n",
              "<style scoped>\n",
              "    .dataframe tbody tr th:only-of-type {\n",
              "        vertical-align: middle;\n",
              "    }\n",
              "\n",
              "    .dataframe tbody tr th {\n",
              "        vertical-align: top;\n",
              "    }\n",
              "\n",
              "    .dataframe thead th {\n",
              "        text-align: right;\n",
              "    }\n",
              "</style>\n",
              "<table border=\"1\" class=\"dataframe\">\n",
              "  <thead>\n",
              "    <tr style=\"text-align: right;\">\n",
              "      <th></th>\n",
              "      <th>Closing Price (USD)</th>\n",
              "      <th>24h Open (USD)</th>\n",
              "      <th>24h High (USD)</th>\n",
              "      <th>24h Low (USD)</th>\n",
              "    </tr>\n",
              "  </thead>\n",
              "  <tbody>\n",
              "    <tr>\n",
              "      <th>count</th>\n",
              "      <td>2787.000000</td>\n",
              "      <td>2787.000000</td>\n",
              "      <td>2787.000000</td>\n",
              "      <td>2787.000000</td>\n",
              "    </tr>\n",
              "    <tr>\n",
              "      <th>mean</th>\n",
              "      <td>6529.845141</td>\n",
              "      <td>6513.579485</td>\n",
              "      <td>6710.061683</td>\n",
              "      <td>6302.417386</td>\n",
              "    </tr>\n",
              "    <tr>\n",
              "      <th>std</th>\n",
              "      <td>10887.847444</td>\n",
              "      <td>10863.800772</td>\n",
              "      <td>11206.779756</td>\n",
              "      <td>10475.811252</td>\n",
              "    </tr>\n",
              "    <tr>\n",
              "      <th>min</th>\n",
              "      <td>108.584830</td>\n",
              "      <td>108.584830</td>\n",
              "      <td>118.675000</td>\n",
              "      <td>83.328330</td>\n",
              "    </tr>\n",
              "    <tr>\n",
              "      <th>25%</th>\n",
              "      <td>460.087500</td>\n",
              "      <td>459.400500</td>\n",
              "      <td>469.720995</td>\n",
              "      <td>450.818830</td>\n",
              "    </tr>\n",
              "    <tr>\n",
              "      <th>50%</th>\n",
              "      <td>2780.182500</td>\n",
              "      <td>2772.367500</td>\n",
              "      <td>2874.696250</td>\n",
              "      <td>2696.457500</td>\n",
              "    </tr>\n",
              "    <tr>\n",
              "      <th>75%</th>\n",
              "      <td>8506.923720</td>\n",
              "      <td>8496.887593</td>\n",
              "      <td>8763.291985</td>\n",
              "      <td>8221.060570</td>\n",
              "    </tr>\n",
              "    <tr>\n",
              "      <th>max</th>\n",
              "      <td>63346.789035</td>\n",
              "      <td>63562.673545</td>\n",
              "      <td>64801.787870</td>\n",
              "      <td>62094.632914</td>\n",
              "    </tr>\n",
              "  </tbody>\n",
              "</table>\n",
              "</div>\n",
              "      <button class=\"colab-df-convert\" onclick=\"convertToInteractive('df-551b4b1b-3ca6-4ee6-87ca-7b5762a248a6')\"\n",
              "              title=\"Convert this dataframe to an interactive table.\"\n",
              "              style=\"display:none;\">\n",
              "        \n",
              "  <svg xmlns=\"http://www.w3.org/2000/svg\" height=\"24px\"viewBox=\"0 0 24 24\"\n",
              "       width=\"24px\">\n",
              "    <path d=\"M0 0h24v24H0V0z\" fill=\"none\"/>\n",
              "    <path d=\"M18.56 5.44l.94 2.06.94-2.06 2.06-.94-2.06-.94-.94-2.06-.94 2.06-2.06.94zm-11 1L8.5 8.5l.94-2.06 2.06-.94-2.06-.94L8.5 2.5l-.94 2.06-2.06.94zm10 10l.94 2.06.94-2.06 2.06-.94-2.06-.94-.94-2.06-.94 2.06-2.06.94z\"/><path d=\"M17.41 7.96l-1.37-1.37c-.4-.4-.92-.59-1.43-.59-.52 0-1.04.2-1.43.59L10.3 9.45l-7.72 7.72c-.78.78-.78 2.05 0 2.83L4 21.41c.39.39.9.59 1.41.59.51 0 1.02-.2 1.41-.59l7.78-7.78 2.81-2.81c.8-.78.8-2.07 0-2.86zM5.41 20L4 18.59l7.72-7.72 1.47 1.35L5.41 20z\"/>\n",
              "  </svg>\n",
              "      </button>\n",
              "      \n",
              "  <style>\n",
              "    .colab-df-container {\n",
              "      display:flex;\n",
              "      flex-wrap:wrap;\n",
              "      gap: 12px;\n",
              "    }\n",
              "\n",
              "    .colab-df-convert {\n",
              "      background-color: #E8F0FE;\n",
              "      border: none;\n",
              "      border-radius: 50%;\n",
              "      cursor: pointer;\n",
              "      display: none;\n",
              "      fill: #1967D2;\n",
              "      height: 32px;\n",
              "      padding: 0 0 0 0;\n",
              "      width: 32px;\n",
              "    }\n",
              "\n",
              "    .colab-df-convert:hover {\n",
              "      background-color: #E2EBFA;\n",
              "      box-shadow: 0px 1px 2px rgba(60, 64, 67, 0.3), 0px 1px 3px 1px rgba(60, 64, 67, 0.15);\n",
              "      fill: #174EA6;\n",
              "    }\n",
              "\n",
              "    [theme=dark] .colab-df-convert {\n",
              "      background-color: #3B4455;\n",
              "      fill: #D2E3FC;\n",
              "    }\n",
              "\n",
              "    [theme=dark] .colab-df-convert:hover {\n",
              "      background-color: #434B5C;\n",
              "      box-shadow: 0px 1px 3px 1px rgba(0, 0, 0, 0.15);\n",
              "      filter: drop-shadow(0px 1px 2px rgba(0, 0, 0, 0.3));\n",
              "      fill: #FFFFFF;\n",
              "    }\n",
              "  </style>\n",
              "\n",
              "      <script>\n",
              "        const buttonEl =\n",
              "          document.querySelector('#df-551b4b1b-3ca6-4ee6-87ca-7b5762a248a6 button.colab-df-convert');\n",
              "        buttonEl.style.display =\n",
              "          google.colab.kernel.accessAllowed ? 'block' : 'none';\n",
              "\n",
              "        async function convertToInteractive(key) {\n",
              "          const element = document.querySelector('#df-551b4b1b-3ca6-4ee6-87ca-7b5762a248a6');\n",
              "          const dataTable =\n",
              "            await google.colab.kernel.invokeFunction('convertToInteractive',\n",
              "                                                     [key], {});\n",
              "          if (!dataTable) return;\n",
              "\n",
              "          const docLinkHtml = 'Like what you see? Visit the ' +\n",
              "            '<a target=\"_blank\" href=https://colab.research.google.com/notebooks/data_table.ipynb>data table notebook</a>'\n",
              "            + ' to learn more about interactive tables.';\n",
              "          element.innerHTML = '';\n",
              "          dataTable['output_type'] = 'display_data';\n",
              "          await google.colab.output.renderOutput(dataTable, element);\n",
              "          const docLink = document.createElement('div');\n",
              "          docLink.innerHTML = docLinkHtml;\n",
              "          element.appendChild(docLink);\n",
              "        }\n",
              "      </script>\n",
              "    </div>\n",
              "  </div>\n",
              "  "
            ]
          },
          "metadata": {},
          "execution_count": 7
        }
      ]
    },
    {
      "cell_type": "code",
      "source": [
        "df.shape"
      ],
      "metadata": {
        "colab": {
          "base_uri": "https://localhost:8080/"
        },
        "id": "s_qNsph8n_nU",
        "outputId": "299757ad-a59a-448b-e6b4-ecfaaddebeb3"
      },
      "execution_count": 8,
      "outputs": [
        {
          "output_type": "execute_result",
          "data": {
            "text/plain": [
              "(2787, 5)"
            ]
          },
          "metadata": {},
          "execution_count": 8
        }
      ]
    },
    {
      "cell_type": "code",
      "source": [
        "df.tail()"
      ],
      "metadata": {
        "colab": {
          "base_uri": "https://localhost:8080/",
          "height": 238
        },
        "id": "eMCfMeyYoEhD",
        "outputId": "d3b895fc-7daa-4e7a-a94e-b67d75e61b88"
      },
      "execution_count": 9,
      "outputs": [
        {
          "output_type": "execute_result",
          "data": {
            "text/plain": [
              "           Currency  Closing Price (USD)  24h Open (USD)  24h High (USD)  \\\n",
              "Date                                                                       \n",
              "2021-05-14      BTC         49764.132082    49596.778891    51448.798576   \n",
              "2021-05-15      BTC         50032.693137    49717.354353    51578.312545   \n",
              "2021-05-16      BTC         47885.625255    49926.035067    50690.802950   \n",
              "2021-05-17      BTC         45604.615754    46805.537852    49670.414174   \n",
              "2021-05-18      BTC         43144.471291    46439.336570    46622.853437   \n",
              "\n",
              "            24h Low (USD)  \n",
              "Date                       \n",
              "2021-05-14   46294.720180  \n",
              "2021-05-15   48944.346536  \n",
              "2021-05-16   47005.102292  \n",
              "2021-05-17   43868.638969  \n",
              "2021-05-18   42102.346430  "
            ],
            "text/html": [
              "\n",
              "  <div id=\"df-43ef3448-ded1-4243-80e3-6e40e43b720d\">\n",
              "    <div class=\"colab-df-container\">\n",
              "      <div>\n",
              "<style scoped>\n",
              "    .dataframe tbody tr th:only-of-type {\n",
              "        vertical-align: middle;\n",
              "    }\n",
              "\n",
              "    .dataframe tbody tr th {\n",
              "        vertical-align: top;\n",
              "    }\n",
              "\n",
              "    .dataframe thead th {\n",
              "        text-align: right;\n",
              "    }\n",
              "</style>\n",
              "<table border=\"1\" class=\"dataframe\">\n",
              "  <thead>\n",
              "    <tr style=\"text-align: right;\">\n",
              "      <th></th>\n",
              "      <th>Currency</th>\n",
              "      <th>Closing Price (USD)</th>\n",
              "      <th>24h Open (USD)</th>\n",
              "      <th>24h High (USD)</th>\n",
              "      <th>24h Low (USD)</th>\n",
              "    </tr>\n",
              "    <tr>\n",
              "      <th>Date</th>\n",
              "      <th></th>\n",
              "      <th></th>\n",
              "      <th></th>\n",
              "      <th></th>\n",
              "      <th></th>\n",
              "    </tr>\n",
              "  </thead>\n",
              "  <tbody>\n",
              "    <tr>\n",
              "      <th>2021-05-14</th>\n",
              "      <td>BTC</td>\n",
              "      <td>49764.132082</td>\n",
              "      <td>49596.778891</td>\n",
              "      <td>51448.798576</td>\n",
              "      <td>46294.720180</td>\n",
              "    </tr>\n",
              "    <tr>\n",
              "      <th>2021-05-15</th>\n",
              "      <td>BTC</td>\n",
              "      <td>50032.693137</td>\n",
              "      <td>49717.354353</td>\n",
              "      <td>51578.312545</td>\n",
              "      <td>48944.346536</td>\n",
              "    </tr>\n",
              "    <tr>\n",
              "      <th>2021-05-16</th>\n",
              "      <td>BTC</td>\n",
              "      <td>47885.625255</td>\n",
              "      <td>49926.035067</td>\n",
              "      <td>50690.802950</td>\n",
              "      <td>47005.102292</td>\n",
              "    </tr>\n",
              "    <tr>\n",
              "      <th>2021-05-17</th>\n",
              "      <td>BTC</td>\n",
              "      <td>45604.615754</td>\n",
              "      <td>46805.537852</td>\n",
              "      <td>49670.414174</td>\n",
              "      <td>43868.638969</td>\n",
              "    </tr>\n",
              "    <tr>\n",
              "      <th>2021-05-18</th>\n",
              "      <td>BTC</td>\n",
              "      <td>43144.471291</td>\n",
              "      <td>46439.336570</td>\n",
              "      <td>46622.853437</td>\n",
              "      <td>42102.346430</td>\n",
              "    </tr>\n",
              "  </tbody>\n",
              "</table>\n",
              "</div>\n",
              "      <button class=\"colab-df-convert\" onclick=\"convertToInteractive('df-43ef3448-ded1-4243-80e3-6e40e43b720d')\"\n",
              "              title=\"Convert this dataframe to an interactive table.\"\n",
              "              style=\"display:none;\">\n",
              "        \n",
              "  <svg xmlns=\"http://www.w3.org/2000/svg\" height=\"24px\"viewBox=\"0 0 24 24\"\n",
              "       width=\"24px\">\n",
              "    <path d=\"M0 0h24v24H0V0z\" fill=\"none\"/>\n",
              "    <path d=\"M18.56 5.44l.94 2.06.94-2.06 2.06-.94-2.06-.94-.94-2.06-.94 2.06-2.06.94zm-11 1L8.5 8.5l.94-2.06 2.06-.94-2.06-.94L8.5 2.5l-.94 2.06-2.06.94zm10 10l.94 2.06.94-2.06 2.06-.94-2.06-.94-.94-2.06-.94 2.06-2.06.94z\"/><path d=\"M17.41 7.96l-1.37-1.37c-.4-.4-.92-.59-1.43-.59-.52 0-1.04.2-1.43.59L10.3 9.45l-7.72 7.72c-.78.78-.78 2.05 0 2.83L4 21.41c.39.39.9.59 1.41.59.51 0 1.02-.2 1.41-.59l7.78-7.78 2.81-2.81c.8-.78.8-2.07 0-2.86zM5.41 20L4 18.59l7.72-7.72 1.47 1.35L5.41 20z\"/>\n",
              "  </svg>\n",
              "      </button>\n",
              "      \n",
              "  <style>\n",
              "    .colab-df-container {\n",
              "      display:flex;\n",
              "      flex-wrap:wrap;\n",
              "      gap: 12px;\n",
              "    }\n",
              "\n",
              "    .colab-df-convert {\n",
              "      background-color: #E8F0FE;\n",
              "      border: none;\n",
              "      border-radius: 50%;\n",
              "      cursor: pointer;\n",
              "      display: none;\n",
              "      fill: #1967D2;\n",
              "      height: 32px;\n",
              "      padding: 0 0 0 0;\n",
              "      width: 32px;\n",
              "    }\n",
              "\n",
              "    .colab-df-convert:hover {\n",
              "      background-color: #E2EBFA;\n",
              "      box-shadow: 0px 1px 2px rgba(60, 64, 67, 0.3), 0px 1px 3px 1px rgba(60, 64, 67, 0.15);\n",
              "      fill: #174EA6;\n",
              "    }\n",
              "\n",
              "    [theme=dark] .colab-df-convert {\n",
              "      background-color: #3B4455;\n",
              "      fill: #D2E3FC;\n",
              "    }\n",
              "\n",
              "    [theme=dark] .colab-df-convert:hover {\n",
              "      background-color: #434B5C;\n",
              "      box-shadow: 0px 1px 3px 1px rgba(0, 0, 0, 0.15);\n",
              "      filter: drop-shadow(0px 1px 2px rgba(0, 0, 0, 0.3));\n",
              "      fill: #FFFFFF;\n",
              "    }\n",
              "  </style>\n",
              "\n",
              "      <script>\n",
              "        const buttonEl =\n",
              "          document.querySelector('#df-43ef3448-ded1-4243-80e3-6e40e43b720d button.colab-df-convert');\n",
              "        buttonEl.style.display =\n",
              "          google.colab.kernel.accessAllowed ? 'block' : 'none';\n",
              "\n",
              "        async function convertToInteractive(key) {\n",
              "          const element = document.querySelector('#df-43ef3448-ded1-4243-80e3-6e40e43b720d');\n",
              "          const dataTable =\n",
              "            await google.colab.kernel.invokeFunction('convertToInteractive',\n",
              "                                                     [key], {});\n",
              "          if (!dataTable) return;\n",
              "\n",
              "          const docLinkHtml = 'Like what you see? Visit the ' +\n",
              "            '<a target=\"_blank\" href=https://colab.research.google.com/notebooks/data_table.ipynb>data table notebook</a>'\n",
              "            + ' to learn more about interactive tables.';\n",
              "          element.innerHTML = '';\n",
              "          dataTable['output_type'] = 'display_data';\n",
              "          await google.colab.output.renderOutput(dataTable, element);\n",
              "          const docLink = document.createElement('div');\n",
              "          docLink.innerHTML = docLinkHtml;\n",
              "          element.appendChild(docLink);\n",
              "        }\n",
              "      </script>\n",
              "    </div>\n",
              "  </div>\n",
              "  "
            ]
          },
          "metadata": {},
          "execution_count": 9
        }
      ]
    },
    {
      "cell_type": "code",
      "source": [
        "import matplotlib.pyplot as plt\n",
        "\n",
        "%matplotlib inline\n",
        "\n",
        "fig,axs = plt.subplots(2,2,figsize = (20,10))\n",
        "\n",
        "df['Closing Price (USD)'].plot(ax = axs[0,0])\n",
        "axs[0,0].set_title('Closing Price (USD)')\n",
        "axs[0,0].set_ylabel('Bitcoin Price')\n",
        "\n",
        "df['24h Open (USD)'].plot(ax = axs[0,1])\n",
        "axs[0,1].set_title('24h Open (USD)')\n",
        "axs[0,1].set_ylabel('Bitcoin Price')\n",
        "\n",
        "df['24h High (USD)'].plot(ax = axs[1,0])\n",
        "axs[1,0].set_title('24h High (USD)')\n",
        "axs[1,0].set_ylabel('Bitcoin Price')\n",
        "\n",
        "df['24h Low (USD)'].plot(ax = axs[1,1])\n",
        "axs[1,0].set_title('24h Low (USD)')\n",
        "axs[1,0].set_ylabel('Bitcoin Price')\n",
        "\n",
        "plt.suptitle('Price change of Bitcoin since 2014 till 2021 (USD)')\n",
        "\n",
        "plt.show();"
      ],
      "metadata": {
        "colab": {
          "base_uri": "https://localhost:8080/",
          "height": 639
        },
        "id": "jVBJBsAwpAyd",
        "outputId": "5083132d-8dc3-4d1c-885a-ded42174d041"
      },
      "execution_count": 10,
      "outputs": [
        {
          "output_type": "display_data",
          "data": {
            "text/plain": [
              "<Figure size 1440x720 with 4 Axes>"
            ],
            "image/png": "[encoded data removed]"
          },
          "metadata": {
            "needs_background": "light"
          }
        }
      ]
    },
    {
      "cell_type": "code",
      "source": [
        "import csv\n",
        "from datetime import datetime\n",
        "\n",
        "timesteps = []\n",
        "btc_price = []\n",
        "\n",
        "with open('prices.csv','r') as file:\n",
        "  csv_reader = csv.reader(file,delimiter = ',')\n",
        "  next(csv_reader)\n",
        "  for line in csv_reader:\n",
        "    timesteps.append(datetime.strptime(line[1],'%Y-%m-%f'))\n",
        "    btc_price.append(float(line[2]))"
      ],
      "metadata": {
        "id": "g6zErglu2lJr"
      },
      "execution_count": 11,
      "outputs": []
    },
    {
      "cell_type": "code",
      "source": [
        "from sklearn.model_selection import train_test_split\n",
        "\n",
        "\n",
        "split_size = int(0.8 * len(btc_price))\n",
        "\n",
        "X_train, y_train = timesteps[:split_size], btc_price[:split_size]\n",
        "X_test, y_test = timesteps[split_size:], btc_price[split_size:]"
      ],
      "metadata": {
        "id": "QLDzt8UX5Z-J"
      },
      "execution_count": 12,
      "outputs": []
    },
    {
      "cell_type": "code",
      "source": [
        "plt.figure(figsize = (10,7))\n",
        "plt.scatter(X_train,y_train, s = 5, label = \"Train data\")\n",
        "plt.scatter(X_test,y_test,s = 5, label = \"Test data\")\n",
        "\n",
        "plt.legend()\n",
        "plt.show();"
      ],
      "metadata": {
        "colab": {
          "base_uri": "https://localhost:8080/",
          "height": 428
        },
        "id": "_hCRnEmC65f5",
        "outputId": "8a65423b-c47b-44cb-95d7-fc683bdb44c1"
      },
      "execution_count": 13,
      "outputs": [
        {
          "output_type": "display_data",
          "data": {
            "text/plain": [
              "<Figure size 720x504 with 1 Axes>"
            ],
            "image/png": "[encoded data removed]"
          },
          "metadata": {
            "needs_background": "light"
          }
        }
      ]
    },
    {
      "cell_type": "code",
      "source": [
        "\n",
        "\n",
        "# Create a function to plot time series data\n",
        "def plot_time_series(timesteps, values, format='.', start=0, end=None, label=None):\n",
        "  \"\"\"\n",
        "  Plots a timesteps (a series of points in time) against values (a series of values across timesteps).\n",
        "  \n",
        "  Parameters\n",
        "  ---------\n",
        "  timesteps : array of timesteps\n",
        "  values : array of values across time\n",
        "  format : style of plot, default \".\"\n",
        "  start : where to start the plot (setting a value will index from start of timesteps & values)\n",
        "  end : where to end the plot (setting a value will index from end of timesteps & values)\n",
        "  label : label to show on plot of values\n",
        "  \"\"\"\n",
        "  # Plot the series\n",
        "  plt.plot(timesteps[start:end], values[start:end], format, label=label)\n",
        "  plt.xlabel(\"Time\")\n",
        "  plt.ylabel(\"BTC Price\")\n",
        "  if label:\n",
        "    plt.legend(fontsize=14) # make label bigger\n",
        "  plt.grid(True)\n",
        "     \n"
      ],
      "metadata": {
        "id": "OHSf68LX7CVQ"
      },
      "execution_count": 14,
      "outputs": []
    },
    {
      "cell_type": "code",
      "source": [
        "# Try out our plotting function\n",
        "plt.figure(figsize=(10, 7))\n",
        "plot_time_series(timesteps=X_train, values=y_train, label=\"Train data\")\n",
        "plot_time_series(timesteps=X_test, values=y_test, label=\"Test data\")"
      ],
      "metadata": {
        "colab": {
          "base_uri": "https://localhost:8080/",
          "height": 442
        },
        "id": "eF9QXy2ghHFf",
        "outputId": "7dfc3c90-1703-4f9a-d651-18a7e25b227a"
      },
      "execution_count": 15,
      "outputs": [
        {
          "output_type": "display_data",
          "data": {
            "text/plain": [
              "<Figure size 720x504 with 1 Axes>"
            ],
            "image/png": "[encoded data removed]"
          },
          "metadata": {
            "needs_background": "light"
          }
        }
      ]
    },
    {
      "cell_type": "markdown",
      "source": [
        "### Building baseline naive model\n",
        "\n",
        "Models formula:\n",
        "\n",
        "$$\\hat{y}_{t} = y_{t-1}$$"
      ],
      "metadata": {
        "id": "BCYxTqqhqHCy"
      }
    },
    {
      "cell_type": "code",
      "source": [
        "\n",
        "# Create a naïve forecast\n",
        "naive_forecast = y_test[:-1] # Naïve forecast equals every value excluding the last value\n",
        "naive_forecast[:10], naive_forecast[-10:] # View frist 10 and last 10 \n",
        "     "
      ],
      "metadata": {
        "id": "LGx5YNq9qAJs",
        "colab": {
          "base_uri": "https://localhost:8080/"
        },
        "outputId": "29f10841-1408-4043-b212-5c1698b8b541"
      },
      "execution_count": 16,
      "outputs": [
        {
          "output_type": "execute_result",
          "data": {
            "text/plain": [
              "([9226.4858208826,\n",
              "  8794.3586445233,\n",
              "  8798.0420546256,\n",
              "  9081.1868784913,\n",
              "  8711.5343391679,\n",
              "  8760.8927181435,\n",
              "  8749.520591019,\n",
              "  8656.970922354,\n",
              "  8500.6435581622,\n",
              "  8469.2608988992],\n",
              " [57107.1206718864,\n",
              "  58788.2096789273,\n",
              "  58102.1914262342,\n",
              "  55715.5466512869,\n",
              "  56573.5554719043,\n",
              "  52147.8211869823,\n",
              "  49764.1320815975,\n",
              "  50032.6931367648,\n",
              "  47885.6252547166,\n",
              "  45604.6157536131])"
            ]
          },
          "metadata": {},
          "execution_count": 16
        }
      ]
    },
    {
      "cell_type": "code",
      "source": [
        "\n",
        "\n",
        "# Plot naive forecast\n",
        "plt.figure(figsize=(10, 7))\n",
        "plot_time_series(timesteps=X_train, values=y_train, label=\"Train data\")\n",
        "plot_time_series(timesteps=X_test, values=y_test, label=\"Test data\")\n",
        "plot_time_series(timesteps=X_test[1:], values=naive_forecast, format=\"-\", label=\"Naive forecast\");\n",
        "     \n"
      ],
      "metadata": {
        "colab": {
          "base_uri": "https://localhost:8080/",
          "height": 442
        },
        "id": "-FFYIdXVhRG2",
        "outputId": "092510d1-96fd-4c29-b8be-653c38c1d288"
      },
      "execution_count": 17,
      "outputs": [
        {
          "output_type": "display_data",
          "data": {
            "text/plain": [
              "<Figure size 720x504 with 1 Axes>"
            ],
            "image/png": "[encoded data removed]"
          },
          "metadata": {
            "needs_background": "light"
          }
        }
      ]
    },
    {
      "cell_type": "code",
      "source": [
        "\n",
        "\n",
        "plt.figure(figsize=(10, 7))\n",
        "offset = 300 # offset the values by 300 timesteps \n",
        "plot_time_series(timesteps=X_test, values=y_test, start=offset, label=\"Test data\")\n",
        "plot_time_series(timesteps=X_test[1:], values=naive_forecast, format=\"-\", start=offset, label=\"Naive forecast\");\n",
        "     \n"
      ],
      "metadata": {
        "colab": {
          "base_uri": "https://localhost:8080/",
          "height": 442
        },
        "id": "pi2FEFkDhfKH",
        "outputId": "be1ac99e-244c-4906-81fd-5a686e940789"
      },
      "execution_count": 18,
      "outputs": [
        {
          "output_type": "display_data",
          "data": {
            "text/plain": [
              "<Figure size 720x504 with 1 Axes>"
            ],
            "image/png": "[encoded data removed]"
          },
          "metadata": {
            "needs_background": "light"
          }
        }
      ]
    },
    {
      "cell_type": "code",
      "source": [
        "import tensorflow as tf\n",
        "import numpy as np"
      ],
      "metadata": {
        "id": "uBktaLhNq-Sx"
      },
      "execution_count": 19,
      "outputs": []
    },
    {
      "cell_type": "code",
      "source": [
        "# MASE implemented courtesy of sktime - https://github.com/alan-turing-institute/sktime/blob/ee7a06843a44f4aaec7582d847e36073a9ab0566/sktime/performance_metrics/forecasting/_functions.py#L16\n",
        "def mean_absolute_scaled_error(y_true, y_pred):\n",
        "  \"\"\"\n",
        "  Implement MASE (assuming no seasonality of data).\n",
        "  \"\"\"\n",
        "  mae = tf.reduce_mean(tf.abs(y_true - y_pred))\n",
        "\n",
        "  # Find MAE of naive forecast (no seasonality)\n",
        "  mae_naive_no_season = tf.reduce_mean(tf.abs(y_true[1:] - y_true[:-1])) # our seasonality is 1 day (hence the shifting of 1 day)\n",
        "\n",
        "  return mae / mae_naive_no_season\n",
        "     \n",
        "\n",
        "\n",
        "def evaluate_preds(y_true, y_pred):\n",
        "  # Make sure float32 (for metric calculations)\n",
        "  y_true = tf.cast(y_true, dtype=tf.float32)\n",
        "  y_pred = tf.cast(y_pred, dtype=tf.float32)\n",
        "\n",
        "  # Calculate various metrics\n",
        "  mae = tf.keras.metrics.mean_absolute_error(y_true, y_pred)\n",
        "  mse = tf.keras.metrics.mean_squared_error(y_true, y_pred) # puts and emphasis on outliers (all errors get squared)\n",
        "  rmse = tf.sqrt(mse)\n",
        "  mape = tf.keras.metrics.mean_absolute_percentage_error(y_true, y_pred)\n",
        "  mase = mean_absolute_scaled_error(y_true, y_pred)\n",
        "  \n",
        "  return {\"mae\": mae.numpy(),\n",
        "          \"mse\": mse.numpy(),\n",
        "          \"rmse\": rmse.numpy(),\n",
        "          \"mape\": mape.numpy(),\n",
        "          \"mase\": mase.numpy()}\n",
        "     \n"
      ],
      "metadata": {
        "id": "c3n_x3H7v8Zw"
      },
      "execution_count": 20,
      "outputs": []
    },
    {
      "cell_type": "code",
      "source": [
        "naive_results = evaluate_preds(y_true=y_test[1:],\n",
        "                               y_pred=naive_forecast)\n",
        "naive_results"
      ],
      "metadata": {
        "colab": {
          "base_uri": "https://localhost:8080/"
        },
        "id": "mwPqgP8Ww0l3",
        "outputId": "dedf9c8b-f581-47a5-d31f-24fcb5909378"
      },
      "execution_count": 21,
      "outputs": [
        {
          "output_type": "execute_result",
          "data": {
            "text/plain": [
              "{'mae': 567.9802,\n",
              " 'mse': 1147547.0,\n",
              " 'rmse': 1071.2362,\n",
              " 'mape': 2.516525,\n",
              " 'mase': 0.99957}"
            ]
          },
          "metadata": {},
          "execution_count": 21
        }
      ]
    },
    {
      "cell_type": "code",
      "source": [
        "\n",
        "\n",
        "# Find average price of Bitcoin in test dataset\n",
        "tf.reduce_mean(y_test).numpy()\n",
        "     \n"
      ],
      "metadata": {
        "colab": {
          "base_uri": "https://localhost:8080/"
        },
        "id": "UxZFRBIpfOVF",
        "outputId": "481ec29e-7ecf-4fef-bd8b-e7f7937a4227"
      },
      "execution_count": 22,
      "outputs": [
        {
          "output_type": "execute_result",
          "data": {
            "text/plain": [
              "20056.635"
            ]
          },
          "metadata": {},
          "execution_count": 22
        }
      ]
    },
    {
      "cell_type": "code",
      "source": [
        "HORIZON = 1\n",
        "WINDOW_SIZE = 7\n",
        "\n",
        "# Create function to label windowed data\n",
        "def get_labelled_windows(x, horizon=1):\n",
        "  \"\"\"\n",
        "  Creates labels for windowed dataset.\n",
        "\n",
        "  E.g. if horizon=1 (default)\n",
        "  Input: [1, 2, 3, 4, 5, 6] -> Output: ([1, 2, 3, 4, 5], [6])\n",
        "  \"\"\"\n",
        "  return x[:, :-horizon], x[:, -horizon:]\n",
        "     \n",
        "\n"
      ],
      "metadata": {
        "id": "V4dV12yX7Lkk"
      },
      "execution_count": 23,
      "outputs": []
    },
    {
      "cell_type": "code",
      "source": [
        "# Test out the window labelling function\n",
        "test_window, test_label = get_labelled_windows(tf.expand_dims(tf.range(8)+1, axis=0), horizon=HORIZON)\n",
        "print(f\"Window: {tf.squeeze(test_window).numpy()} -> Label: {tf.squeeze(test_label).numpy()}\")"
      ],
      "metadata": {
        "colab": {
          "base_uri": "https://localhost:8080/"
        },
        "id": "RaD9URqTIA6Z",
        "outputId": "5b87efcf-04ac-4e52-afcf-42e3ff5d2e5f"
      },
      "execution_count": 24,
      "outputs": [
        {
          "output_type": "stream",
          "name": "stdout",
          "text": [
            "Window: [1 2 3 4 5 6 7] -> Label: 8\n"
          ]
        }
      ]
    },
    {
      "cell_type": "code",
      "source": [
        "def make_windows(x,window_size = WINDOW_SIZE, horizon = HORIZON):\n",
        "\n",
        "  \"\"\"\n",
        "  Turns 1D array into a 2D array of sequential labelled windows of window_size with hirizon size labels.\n",
        "  \"\"\"\n",
        "\n",
        "  window_step = np.expand_dims(np.arange(window_size+horizon), axis = 0)\n",
        "  window_indx = window_step + np.expand_dims(np.arange(len(x) - (window_size+horizon-1)),axis=0).T\n",
        "  windowed_array = np.array(x)[window_indx]\n",
        "  windows,labels = get_labelled_windows(windowed_array,horizon=horizon)\n",
        "  return windows,labels\n",
        "\n"
      ],
      "metadata": {
        "id": "wcUTvMBaMT5b"
      },
      "execution_count": 25,
      "outputs": []
    },
    {
      "cell_type": "code",
      "source": [
        "full_windows, full_labels = make_windows(btc_price)\n",
        "\n",
        "len(full_windows), len(full_labels)"
      ],
      "metadata": {
        "colab": {
          "base_uri": "https://localhost:8080/"
        },
        "id": "kbfpFhfLnBsI",
        "outputId": "cd4c0add-8b3a-472b-e6d7-9db40a05d8fc"
      },
      "execution_count": 26,
      "outputs": [
        {
          "output_type": "execute_result",
          "data": {
            "text/plain": [
              "(2780, 2780)"
            ]
          },
          "metadata": {},
          "execution_count": 26
        }
      ]
    },
    {
      "cell_type": "code",
      "source": [
        "for i in range(3):\n",
        "  print(f'Windows: {full_windows[i]} - > Label: {full_labels[i]}')"
      ],
      "metadata": {
        "colab": {
          "base_uri": "https://localhost:8080/"
        },
        "id": "BvQcjECrnIBy",
        "outputId": "84d2cf82-35a8-4f9f-8721-21770a368b73"
      },
      "execution_count": 27,
      "outputs": [
        {
          "output_type": "stream",
          "name": "stdout",
          "text": [
            "Windows: [123.65499 125.455   108.58483 118.67466 121.33866 120.65533 121.795  ] - > Label: [123.033]\n",
            "Windows: [125.455   108.58483 118.67466 121.33866 120.65533 121.795   123.033  ] - > Label: [124.049]\n",
            "Windows: [108.58483 118.67466 121.33866 120.65533 121.795   123.033   124.049  ] - > Label: [125.96116]\n"
          ]
        }
      ]
    },
    {
      "cell_type": "code",
      "source": [
        "def make_train_test_splits(windows, labels, test_split = 0.2):\n",
        "\n",
        "  \"\"\"\n",
        "  Splits matching pairs of windows and labels into train and test sets\n",
        "  \"\"\"  \n",
        "  split_size = int(len(windows)*(1-test_split))\n",
        "  \n",
        "  train_windows = windows[:split_size]\n",
        "  train_labels = labels[:split_size]\n",
        "\n",
        "  test_windows = windows[split_size:]\n",
        "  test_labels = labels[split_size:]\n",
        "\n",
        "  return train_windows, test_windows, train_labels, test_labels\n",
        "\n"
      ],
      "metadata": {
        "id": "XMZoeI1KsYwO"
      },
      "execution_count": 28,
      "outputs": []
    },
    {
      "cell_type": "code",
      "source": [
        "train_windows, test_windows, train_labels, test_labels = make_train_test_splits(full_windows, full_labels)"
      ],
      "metadata": {
        "id": "MLgNM84nuj2V"
      },
      "execution_count": 29,
      "outputs": []
    },
    {
      "cell_type": "code",
      "source": [
        "import os\n",
        "import tensorflow as tf\n",
        "\n",
        "def create_model_checkpoint(model_name, save_path = 'model_experiments'):\n",
        "  return tf.keras.callbacks.ModelCheckpoint(filepath = os.path.join(save_path, model_name),\n",
        "                                            monitor = 'val_loss',\n",
        "                                            verbose = 0,\n",
        "                                            save_best_only = True)"
      ],
      "metadata": {
        "id": "v_YQAY6cvVu-"
      },
      "execution_count": 37,
      "outputs": []
    },
    {
      "cell_type": "markdown",
      "source": [
        "## Model 1: Dense model (window = 7, horizon = 1)"
      ],
      "metadata": {
        "id": "bO0OYi0Cw8sh"
      }
    },
    {
      "cell_type": "code",
      "source": [
        "import tensorflow as tf\n",
        "from tensorflow.keras import layers\n",
        "\n",
        "tf.random.set_seed(42)\n",
        "\n",
        "model_1 = tf.keras.Sequential([\n",
        "    layers.Dense(128,activation = 'relu'),\n",
        "    layers.Dense(HORIZON,activation = 'linear')\n",
        "], name = 'model_1_dense')\n",
        "\n",
        "model_1.compile(loss = 'mae',\n",
        "                optimizer = tf.keras.optimizers.Adam(),\n",
        "                metrics = ['mae','mse'])\n",
        "\n",
        "model_1.fit(x = train_windows,\n",
        "            y = train_labels,\n",
        "            epochs = 100,\n",
        "            verbose = 1,\n",
        "            batch_size = 128,\n",
        "            validation_data = (test_windows, test_labels),\n",
        "            callbacks = [create_model_checkpoint(model_name = model_1.name)])"
      ],
      "metadata": {
        "colab": {
          "base_uri": "https://localhost:8080/"
        },
        "id": "xofACv4Gxkf5",
        "outputId": "c41c4314-0721-4cb7-dce7-e8b4125d7d3e"
      },
      "execution_count": 38,
      "outputs": [
        {
          "output_type": "stream",
          "name": "stdout",
          "text": [
            "Epoch 1/100\n",
            "18/18 [==============================] - 1s 30ms/step - loss: 780.3455 - mae: 780.3455 - mse: 2312725.7500 - val_loss: 2279.6528 - val_mae: 2279.6528 - val_mse: 12772731.0000\n",
            "Epoch 2/100\n",
            "18/18 [==============================] - 0s 25ms/step - loss: 247.6756 - mae: 247.6756 - mse: 285481.1875 - val_loss: 1005.9993 - val_mae: 1005.9993 - val_mse: 3441833.2500\n",
            "Epoch 3/100\n",
            "18/18 [==============================] - 0s 24ms/step - loss: 188.4116 - mae: 188.4116 - mse: 171891.6094 - val_loss: 923.2862 - val_mae: 923.2861 - val_mse: 2868220.7500\n",
            "Epoch 4/100\n",
            "18/18 [==============================] - 0s 25ms/step - loss: 169.4340 - mae: 169.4340 - mse: 151700.5781 - val_loss: 900.5872 - val_mae: 900.5872 - val_mse: 2683715.5000\n",
            "Epoch 5/100\n",
            "18/18 [==============================] - 0s 24ms/step - loss: 165.0894 - mae: 165.0894 - mse: 145490.7812 - val_loss: 895.2237 - val_mae: 895.2237 - val_mse: 2564574.5000\n",
            "Epoch 6/100\n",
            "18/18 [==============================] - 1s 39ms/step - loss: 158.5210 - mae: 158.5210 - mse: 133817.7344 - val_loss: 855.1984 - val_mae: 855.1984 - val_mse: 2481873.2500\n",
            "Epoch 7/100\n",
            "18/18 [==============================] - 0s 25ms/step - loss: 151.3566 - mae: 151.3566 - mse: 123446.9766 - val_loss: 840.9166 - val_mae: 840.9166 - val_mse: 2276451.5000\n",
            "Epoch 8/100\n",
            "18/18 [==============================] - 0s 27ms/step - loss: 145.2560 - mae: 145.2560 - mse: 117694.5000 - val_loss: 803.5956 - val_mae: 803.5956 - val_mse: 2140573.5000\n",
            "Epoch 9/100\n",
            "18/18 [==============================] - 1s 35ms/step - loss: 144.3546 - mae: 144.3546 - mse: 115269.3047 - val_loss: 799.5454 - val_mae: 799.5454 - val_mse: 2049207.7500\n",
            "Epoch 10/100\n",
            "18/18 [==============================] - 1s 41ms/step - loss: 141.2943 - mae: 141.2943 - mse: 112394.5938 - val_loss: 763.5010 - val_mae: 763.5010 - val_mse: 1933140.7500\n",
            "Epoch 11/100\n",
            "18/18 [==============================] - 0s 6ms/step - loss: 135.6595 - mae: 135.6595 - mse: 104118.2344 - val_loss: 771.3356 - val_mae: 771.3356 - val_mse: 1885849.7500\n",
            "Epoch 12/100\n",
            "18/18 [==============================] - 0s 6ms/step - loss: 134.1700 - mae: 134.1700 - mse: 101780.8672 - val_loss: 782.8079 - val_mae: 782.8079 - val_mse: 1881727.1250\n",
            "Epoch 13/100\n",
            "18/18 [==============================] - 0s 5ms/step - loss: 134.6015 - mae: 134.6015 - mse: 102345.2266 - val_loss: 784.4449 - val_mae: 784.4449 - val_mse: 1860996.1250\n",
            "Epoch 14/100\n",
            "18/18 [==============================] - 1s 34ms/step - loss: 130.6127 - mae: 130.6127 - mse: 96225.1328 - val_loss: 751.3234 - val_mae: 751.3233 - val_mse: 1749609.0000\n",
            "Epoch 15/100\n",
            "18/18 [==============================] - 1s 44ms/step - loss: 128.8347 - mae: 128.8347 - mse: 94306.9922 - val_loss: 696.5756 - val_mae: 696.5756 - val_mse: 1606352.3750\n",
            "Epoch 16/100\n",
            "18/18 [==============================] - 0s 10ms/step - loss: 124.7739 - mae: 124.7739 - mse: 90394.9375 - val_loss: 702.4698 - val_mae: 702.4698 - val_mse: 1592416.2500\n",
            "Epoch 17/100\n",
            "18/18 [==============================] - 0s 9ms/step - loss: 123.4474 - mae: 123.4474 - mse: 89247.7031 - val_loss: 704.9239 - val_mae: 704.9239 - val_mse: 1580782.7500\n",
            "Epoch 18/100\n",
            "18/18 [==============================] - 1s 45ms/step - loss: 122.2105 - mae: 122.2105 - mse: 87607.5938 - val_loss: 667.9724 - val_mae: 667.9724 - val_mse: 1498881.8750\n",
            "Epoch 19/100\n",
            "18/18 [==============================] - 0s 7ms/step - loss: 121.7263 - mae: 121.7263 - mse: 86632.2422 - val_loss: 718.8796 - val_mae: 718.8796 - val_mse: 1589299.3750\n",
            "Epoch 20/100\n",
            "18/18 [==============================] - 2s 111ms/step - loss: 119.2420 - mae: 119.2420 - mse: 84334.3203 - val_loss: 657.0666 - val_mae: 657.0666 - val_mse: 1447501.1250\n",
            "Epoch 21/100\n",
            "18/18 [==============================] - 1s 44ms/step - loss: 121.2275 - mae: 121.2275 - mse: 85743.3828 - val_loss: 637.0333 - val_mae: 637.0333 - val_mse: 1401774.2500\n",
            "Epoch 22/100\n",
            "18/18 [==============================] - 0s 8ms/step - loss: 119.9544 - mae: 119.9544 - mse: 84050.1094 - val_loss: 671.2488 - val_mae: 671.2488 - val_mse: 1447895.7500\n",
            "Epoch 23/100\n",
            "18/18 [==============================] - 1s 65ms/step - loss: 121.9248 - mae: 121.9248 - mse: 83746.1250 - val_loss: 633.3592 - val_mae: 633.3592 - val_mse: 1367377.8750\n",
            "Epoch 24/100\n",
            "18/18 [==============================] - 1s 54ms/step - loss: 116.3665 - mae: 116.3665 - mse: 81446.6562 - val_loss: 624.4852 - val_mae: 624.4852 - val_mse: 1348960.6250\n",
            "Epoch 25/100\n",
            "18/18 [==============================] - 1s 39ms/step - loss: 114.6816 - mae: 114.6816 - mse: 78912.8359 - val_loss: 619.7570 - val_mae: 619.7570 - val_mse: 1351089.7500\n",
            "Epoch 26/100\n",
            "18/18 [==============================] - 1s 52ms/step - loss: 116.4455 - mae: 116.4455 - mse: 79365.5938 - val_loss: 615.6364 - val_mae: 615.6364 - val_mse: 1321514.3750\n",
            "Epoch 27/100\n",
            "18/18 [==============================] - 0s 8ms/step - loss: 116.5868 - mae: 116.5868 - mse: 78672.9062 - val_loss: 615.9629 - val_mae: 615.9629 - val_mse: 1313077.5000\n",
            "Epoch 28/100\n",
            "18/18 [==============================] - 1s 50ms/step - loss: 113.4691 - mae: 113.4691 - mse: 77440.0938 - val_loss: 608.0921 - val_mae: 608.0921 - val_mse: 1309775.3750\n",
            "Epoch 29/100\n",
            "18/18 [==============================] - 0s 16ms/step - loss: 113.7598 - mae: 113.7598 - mse: 78506.9531 - val_loss: 621.9305 - val_mae: 621.9305 - val_mse: 1313324.6250\n",
            "Epoch 30/100\n",
            "18/18 [==============================] - 1s 61ms/step - loss: 116.8613 - mae: 116.8613 - mse: 79236.4609 - val_loss: 604.4056 - val_mae: 604.4056 - val_mse: 1283408.0000\n",
            "Epoch 31/100\n",
            "18/18 [==============================] - 0s 10ms/step - loss: 111.9375 - mae: 111.9375 - mse: 74849.0703 - val_loss: 609.3882 - val_mae: 609.3882 - val_mse: 1284506.2500\n",
            "Epoch 32/100\n",
            "18/18 [==============================] - 1s 46ms/step - loss: 112.4175 - mae: 112.4175 - mse: 77178.5859 - val_loss: 603.0588 - val_mae: 603.0588 - val_mse: 1273059.5000\n",
            "Epoch 33/100\n",
            "18/18 [==============================] - 0s 8ms/step - loss: 112.6697 - mae: 112.6697 - mse: 75787.9766 - val_loss: 645.6973 - val_mae: 645.6973 - val_mse: 1353255.7500\n",
            "Epoch 34/100\n",
            "18/18 [==============================] - 0s 8ms/step - loss: 111.9867 - mae: 111.9867 - mse: 77245.7266 - val_loss: 604.7634 - val_mae: 604.7634 - val_mse: 1289360.3750\n",
            "Epoch 35/100\n",
            "18/18 [==============================] - 1s 49ms/step - loss: 110.9451 - mae: 110.9451 - mse: 75301.7812 - val_loss: 593.4648 - val_mae: 593.4648 - val_mse: 1250491.3750\n",
            "Epoch 36/100\n",
            "18/18 [==============================] - 0s 11ms/step - loss: 114.4816 - mae: 114.4816 - mse: 76138.5391 - val_loss: 608.0074 - val_mae: 608.0074 - val_mse: 1269272.3750\n",
            "Epoch 37/100\n",
            "18/18 [==============================] - 0s 13ms/step - loss: 110.2016 - mae: 110.2016 - mse: 74635.3047 - val_loss: 597.2308 - val_mae: 597.2308 - val_mse: 1248474.0000\n",
            "Epoch 38/100\n",
            "18/18 [==============================] - 0s 9ms/step - loss: 112.2372 - mae: 112.2372 - mse: 75821.6953 - val_loss: 637.9798 - val_mae: 637.9798 - val_mse: 1366130.8750\n",
            "Epoch 39/100\n",
            "18/18 [==============================] - 2s 107ms/step - loss: 115.1289 - mae: 115.1289 - mse: 76339.6797 - val_loss: 587.4680 - val_mae: 587.4680 - val_mse: 1233512.3750\n",
            "Epoch 40/100\n",
            "18/18 [==============================] - 0s 11ms/step - loss: 110.0854 - mae: 110.0854 - mse: 73528.4766 - val_loss: 592.7117 - val_mae: 592.7117 - val_mse: 1251474.6250\n",
            "Epoch 41/100\n",
            "18/18 [==============================] - 0s 13ms/step - loss: 110.6344 - mae: 110.6344 - mse: 73528.7891 - val_loss: 593.8997 - val_mae: 593.8997 - val_mse: 1253678.5000\n",
            "Epoch 42/100\n",
            "18/18 [==============================] - 0s 11ms/step - loss: 113.5762 - mae: 113.5762 - mse: 77076.7031 - val_loss: 636.3674 - val_mae: 636.3674 - val_mse: 1317283.5000\n",
            "Epoch 43/100\n",
            "18/18 [==============================] - 0s 8ms/step - loss: 116.2285 - mae: 116.2285 - mse: 74712.2031 - val_loss: 662.9263 - val_mae: 662.9263 - val_mse: 1419201.7500\n",
            "Epoch 44/100\n",
            "18/18 [==============================] - 0s 7ms/step - loss: 120.0192 - mae: 120.0192 - mse: 80971.8750 - val_loss: 635.6360 - val_mae: 635.6360 - val_mse: 1345999.3750\n",
            "Epoch 45/100\n",
            "18/18 [==============================] - 0s 12ms/step - loss: 110.9675 - mae: 110.9675 - mse: 74941.2891 - val_loss: 601.9926 - val_mae: 601.9926 - val_mse: 1244816.7500\n",
            "Epoch 46/100\n",
            "18/18 [==============================] - 0s 9ms/step - loss: 111.6012 - mae: 111.6012 - mse: 74565.6016 - val_loss: 593.3531 - val_mae: 593.3531 - val_mse: 1248764.3750\n",
            "Epoch 47/100\n",
            "18/18 [==============================] - 0s 7ms/step - loss: 109.6161 - mae: 109.6161 - mse: 74190.7109 - val_loss: 637.0011 - val_mae: 637.0011 - val_mse: 1314970.2500\n",
            "Epoch 48/100\n",
            "18/18 [==============================] - 0s 8ms/step - loss: 109.1368 - mae: 109.1368 - mse: 72792.5547 - val_loss: 598.4197 - val_mae: 598.4197 - val_mse: 1234610.1250\n",
            "Epoch 49/100\n",
            "18/18 [==============================] - 1s 36ms/step - loss: 112.4355 - mae: 112.4355 - mse: 73980.3359 - val_loss: 579.7042 - val_mae: 579.7042 - val_mse: 1208301.8750\n",
            "Epoch 50/100\n",
            "18/18 [==============================] - 0s 5ms/step - loss: 110.2108 - mae: 110.2108 - mse: 72939.7109 - val_loss: 639.2327 - val_mae: 639.2327 - val_mse: 1347994.1250\n",
            "Epoch 51/100\n",
            "18/18 [==============================] - 0s 4ms/step - loss: 111.0958 - mae: 111.0958 - mse: 73281.9062 - val_loss: 597.3571 - val_mae: 597.3571 - val_mse: 1229791.1250\n",
            "Epoch 52/100\n",
            "18/18 [==============================] - 0s 4ms/step - loss: 110.7351 - mae: 110.7351 - mse: 74529.6328 - val_loss: 580.7227 - val_mae: 580.7227 - val_mse: 1215477.1250\n",
            "Epoch 53/100\n",
            "18/18 [==============================] - 0s 4ms/step - loss: 111.1785 - mae: 111.1785 - mse: 74149.4766 - val_loss: 648.3586 - val_mae: 648.3586 - val_mse: 1336951.1250\n",
            "Epoch 54/100\n",
            "18/18 [==============================] - 0s 5ms/step - loss: 114.0831 - mae: 114.0831 - mse: 74815.0781 - val_loss: 593.2006 - val_mae: 593.2006 - val_mse: 1220661.2500\n",
            "Epoch 55/100\n",
            "18/18 [==============================] - 1s 30ms/step - loss: 110.4910 - mae: 110.4910 - mse: 74711.2500 - val_loss: 579.5067 - val_mae: 579.5067 - val_mse: 1211580.3750\n",
            "Epoch 56/100\n",
            "18/18 [==============================] - 0s 11ms/step - loss: 108.0488 - mae: 108.0488 - mse: 71844.1562 - val_loss: 807.3853 - val_mae: 807.3853 - val_mse: 1859292.5000\n",
            "Epoch 57/100\n",
            "18/18 [==============================] - 0s 7ms/step - loss: 125.0614 - mae: 125.0614 - mse: 84025.2812 - val_loss: 674.1658 - val_mae: 674.1658 - val_mse: 1437686.8750\n",
            "Epoch 58/100\n",
            "18/18 [==============================] - 0s 8ms/step - loss: 115.4340 - mae: 115.4340 - mse: 73710.7422 - val_loss: 582.2697 - val_mae: 582.2697 - val_mse: 1202679.3750\n",
            "Epoch 59/100\n",
            "18/18 [==============================] - 0s 7ms/step - loss: 110.0881 - mae: 110.0881 - mse: 72845.1172 - val_loss: 606.7640 - val_mae: 606.7640 - val_mse: 1267544.0000\n",
            "Epoch 60/100\n",
            "18/18 [==============================] - 0s 9ms/step - loss: 108.7156 - mae: 108.7156 - mse: 72675.7734 - val_loss: 602.3099 - val_mae: 602.3099 - val_mse: 1234690.0000\n",
            "Epoch 61/100\n",
            "18/18 [==============================] - 1s 44ms/step - loss: 108.1525 - mae: 108.1525 - mse: 72252.1250 - val_loss: 573.9990 - val_mae: 573.9990 - val_mse: 1189583.5000\n",
            "Epoch 62/100\n",
            "18/18 [==============================] - 0s 8ms/step - loss: 107.3726 - mae: 107.3726 - mse: 70822.7891 - val_loss: 581.7015 - val_mae: 581.7015 - val_mse: 1214006.6250\n",
            "Epoch 63/100\n",
            "18/18 [==============================] - 0s 8ms/step - loss: 110.7667 - mae: 110.7667 - mse: 73178.4453 - val_loss: 637.5243 - val_mae: 637.5243 - val_mse: 1311201.6250\n",
            "Epoch 64/100\n",
            "18/18 [==============================] - 0s 8ms/step - loss: 110.1539 - mae: 110.1539 - mse: 72588.2188 - val_loss: 586.6598 - val_mae: 586.6598 - val_mse: 1207116.3750\n",
            "Epoch 65/100\n",
            "18/18 [==============================] - 1s 45ms/step - loss: 108.2325 - mae: 108.2325 - mse: 71962.0859 - val_loss: 573.5618 - val_mae: 573.5618 - val_mse: 1188986.2500\n",
            "Epoch 66/100\n",
            "18/18 [==============================] - 1s 44ms/step - loss: 108.6825 - mae: 108.6825 - mse: 71026.3516 - val_loss: 572.2206 - val_mae: 572.2206 - val_mse: 1187818.3750\n",
            "Epoch 67/100\n",
            "18/18 [==============================] - 0s 7ms/step - loss: 106.6371 - mae: 106.6371 - mse: 70166.2578 - val_loss: 646.6359 - val_mae: 646.6359 - val_mse: 1356393.0000\n",
            "Epoch 68/100\n",
            "18/18 [==============================] - 0s 7ms/step - loss: 114.1603 - mae: 114.1603 - mse: 71297.3203 - val_loss: 681.8572 - val_mae: 681.8572 - val_mse: 1455430.5000\n",
            "Epoch 69/100\n",
            "18/18 [==============================] - 0s 7ms/step - loss: 124.5514 - mae: 124.5514 - mse: 81238.9609 - val_loss: 655.9892 - val_mae: 655.9892 - val_mse: 1383324.6250\n",
            "Epoch 70/100\n",
            "18/18 [==============================] - 0s 7ms/step - loss: 125.0234 - mae: 125.0234 - mse: 83058.2109 - val_loss: 601.0039 - val_mae: 601.0039 - val_mse: 1256963.6250\n",
            "Epoch 71/100\n",
            "18/18 [==============================] - 0s 9ms/step - loss: 110.3652 - mae: 110.3652 - mse: 71691.4922 - val_loss: 595.3957 - val_mae: 595.3957 - val_mse: 1222771.6250\n",
            "Epoch 72/100\n",
            "18/18 [==============================] - 0s 8ms/step - loss: 107.9285 - mae: 107.9285 - mse: 71745.5312 - val_loss: 573.7084 - val_mae: 573.7084 - val_mse: 1192818.5000\n",
            "Epoch 73/100\n",
            "18/18 [==============================] - 0s 7ms/step - loss: 109.5085 - mae: 109.5085 - mse: 71691.1484 - val_loss: 580.4183 - val_mae: 580.4183 - val_mse: 1211317.6250\n",
            "Epoch 74/100\n",
            "18/18 [==============================] - 0s 7ms/step - loss: 108.7380 - mae: 108.7380 - mse: 72051.1094 - val_loss: 576.1216 - val_mae: 576.1216 - val_mse: 1199670.7500\n",
            "Epoch 75/100\n",
            "18/18 [==============================] - 0s 9ms/step - loss: 107.9404 - mae: 107.9404 - mse: 71043.1328 - val_loss: 591.1470 - val_mae: 591.1470 - val_mse: 1211107.6250\n",
            "Epoch 76/100\n",
            "18/18 [==============================] - 0s 9ms/step - loss: 109.4232 - mae: 109.4232 - mse: 72295.0312 - val_loss: 597.8611 - val_mae: 597.8611 - val_mse: 1243936.2500\n",
            "Epoch 77/100\n",
            "18/18 [==============================] - 1s 42ms/step - loss: 107.5879 - mae: 107.5879 - mse: 70333.8359 - val_loss: 571.9301 - val_mae: 571.9301 - val_mse: 1186830.0000\n",
            "Epoch 78/100\n",
            "18/18 [==============================] - 0s 5ms/step - loss: 108.1598 - mae: 108.1598 - mse: 70200.0781 - val_loss: 575.2387 - val_mae: 575.2387 - val_mse: 1195318.0000\n",
            "Epoch 79/100\n",
            "18/18 [==============================] - 0s 4ms/step - loss: 107.9175 - mae: 107.9175 - mse: 72451.5859 - val_loss: 617.3083 - val_mae: 617.3083 - val_mse: 1285512.3750\n",
            "Epoch 80/100\n",
            "18/18 [==============================] - 0s 7ms/step - loss: 108.9510 - mae: 108.9510 - mse: 72158.7812 - val_loss: 583.4841 - val_mae: 583.4841 - val_mse: 1194356.7500\n",
            "Epoch 81/100\n",
            "18/18 [==============================] - 1s 43ms/step - loss: 106.0505 - mae: 106.0505 - mse: 69690.9219 - val_loss: 570.0803 - val_mae: 570.0803 - val_mse: 1177237.8750\n",
            "Epoch 82/100\n",
            "18/18 [==============================] - 0s 8ms/step - loss: 115.6827 - mae: 115.6827 - mse: 76903.4922 - val_loss: 575.7388 - val_mae: 575.7388 - val_mse: 1194662.6250\n",
            "Epoch 83/100\n",
            "18/18 [==============================] - 0s 9ms/step - loss: 110.9379 - mae: 110.9379 - mse: 72968.3047 - val_loss: 659.6579 - val_mae: 659.6579 - val_mse: 1388829.8750\n",
            "Epoch 84/100\n",
            "18/18 [==============================] - 0s 7ms/step - loss: 111.4836 - mae: 111.4836 - mse: 73017.9453 - val_loss: 570.1957 - val_mae: 570.1957 - val_mse: 1177492.2500\n",
            "Epoch 85/100\n",
            "18/18 [==============================] - 0s 5ms/step - loss: 107.5949 - mae: 107.5949 - mse: 70728.2266 - val_loss: 601.5939 - val_mae: 601.5939 - val_mse: 1228450.7500\n",
            "Epoch 86/100\n",
            "18/18 [==============================] - 0s 7ms/step - loss: 108.9425 - mae: 108.9425 - mse: 70066.7422 - val_loss: 592.8101 - val_mae: 592.8101 - val_mse: 1209680.7500\n",
            "Epoch 87/100\n",
            "18/18 [==============================] - 0s 6ms/step - loss: 105.7717 - mae: 105.7717 - mse: 68382.3516 - val_loss: 603.6174 - val_mae: 603.6174 - val_mse: 1252409.5000\n",
            "Epoch 88/100\n",
            "18/18 [==============================] - 1s 36ms/step - loss: 107.9217 - mae: 107.9217 - mse: 71668.0469 - val_loss: 569.0500 - val_mae: 569.0500 - val_mse: 1174588.3750\n",
            "Epoch 89/100\n",
            "18/18 [==============================] - 1s 37ms/step - loss: 106.0344 - mae: 106.0344 - mse: 68979.1484 - val_loss: 568.9510 - val_mae: 568.9510 - val_mse: 1171743.5000\n",
            "Epoch 90/100\n",
            "18/18 [==============================] - 0s 6ms/step - loss: 105.4977 - mae: 105.4977 - mse: 67516.5000 - val_loss: 581.7677 - val_mae: 581.7677 - val_mse: 1190160.5000\n",
            "Epoch 91/100\n",
            "18/18 [==============================] - 0s 7ms/step - loss: 108.8468 - mae: 108.8468 - mse: 71112.3281 - val_loss: 573.6025 - val_mae: 573.6025 - val_mse: 1185216.0000\n",
            "Epoch 92/100\n",
            "18/18 [==============================] - 0s 7ms/step - loss: 110.8884 - mae: 110.8884 - mse: 73287.8125 - val_loss: 576.8243 - val_mae: 576.8243 - val_mse: 1181628.3750\n",
            "Epoch 93/100\n",
            "18/18 [==============================] - 0s 8ms/step - loss: 113.8781 - mae: 113.8781 - mse: 75236.4375 - val_loss: 608.3022 - val_mae: 608.3022 - val_mse: 1264206.1250\n",
            "Epoch 94/100\n",
            "18/18 [==============================] - 0s 6ms/step - loss: 110.5763 - mae: 110.5763 - mse: 72590.8672 - val_loss: 601.6042 - val_mae: 601.6042 - val_mse: 1229105.1250\n",
            "Epoch 95/100\n",
            "18/18 [==============================] - 0s 5ms/step - loss: 106.5906 - mae: 106.5906 - mse: 68612.3281 - val_loss: 570.3651 - val_mae: 570.3651 - val_mse: 1175759.6250\n",
            "Epoch 96/100\n",
            "18/18 [==============================] - 0s 4ms/step - loss: 116.9515 - mae: 116.9515 - mse: 75082.1172 - val_loss: 615.2584 - val_mae: 615.2584 - val_mse: 1277124.3750\n",
            "Epoch 97/100\n",
            "18/18 [==============================] - 0s 4ms/step - loss: 108.0739 - mae: 108.0739 - mse: 71321.4219 - val_loss: 580.3076 - val_mae: 580.3076 - val_mse: 1202622.3750\n",
            "Epoch 98/100\n",
            "18/18 [==============================] - 0s 4ms/step - loss: 108.7102 - mae: 108.7102 - mse: 70248.0625 - val_loss: 586.6510 - val_mae: 586.6510 - val_mse: 1200831.2500\n",
            "Epoch 99/100\n",
            "18/18 [==============================] - 0s 4ms/step - loss: 109.0488 - mae: 109.0488 - mse: 70913.1562 - val_loss: 570.0628 - val_mae: 570.0628 - val_mse: 1177064.5000\n",
            "Epoch 100/100\n",
            "18/18 [==============================] - 0s 5ms/step - loss: 106.1845 - mae: 106.1845 - mse: 68681.7344 - val_loss: 585.9758 - val_mae: 585.9758 - val_mse: 1197802.1250\n"
          ]
        },
        {
          "output_type": "execute_result",
          "data": {
            "text/plain": [
              "<keras.callbacks.History at 0x7fb8418c10a0>"
            ]
          },
          "metadata": {},
          "execution_count": 38
        }
      ]
    },
    {
      "cell_type": "code",
      "source": [
        "model_1.evaluate(test_windows,test_labels)"
      ],
      "metadata": {
        "colab": {
          "base_uri": "https://localhost:8080/"
        },
        "id": "IIcOapjBzIaw",
        "outputId": "633e05e8-a165-4e2e-f9ac-e786731cc034"
      },
      "execution_count": 39,
      "outputs": [
        {
          "output_type": "stream",
          "name": "stdout",
          "text": [
            "18/18 [==============================] - 0s 2ms/step - loss: 585.9758 - mae: 585.9758 - mse: 1197802.1250\n"
          ]
        },
        {
          "output_type": "execute_result",
          "data": {
            "text/plain": [
              "[585.9757690429688, 585.9757690429688, 1197802.125]"
            ]
          },
          "metadata": {},
          "execution_count": 39
        }
      ]
    },
    {
      "cell_type": "code",
      "source": [
        "model_1 = tf.keras.models.load_model('model_experiments/model_1_dense/')"
      ],
      "metadata": {
        "id": "bH7ikDVf0Fy0"
      },
      "execution_count": 40,
      "outputs": []
    },
    {
      "cell_type": "code",
      "source": [
        "model_1.evaluate(test_windows,test_labels)"
      ],
      "metadata": {
        "colab": {
          "base_uri": "https://localhost:8080/"
        },
        "id": "3L75pXy-0dBn",
        "outputId": "43aacd64-c3e5-4ea8-fe3a-5c9da985db7d"
      },
      "execution_count": 41,
      "outputs": [
        {
          "output_type": "stream",
          "name": "stdout",
          "text": [
            "18/18 [==============================] - 0s 2ms/step - loss: 568.9510 - mae: 568.9510 - mse: 1171743.6250\n"
          ]
        },
        {
          "output_type": "execute_result",
          "data": {
            "text/plain": [
              "[568.9510498046875, 568.9510498046875, 1171743.625]"
            ]
          },
          "metadata": {},
          "execution_count": 41
        }
      ]
    },
    {
      "cell_type": "code",
      "source": [],
      "metadata": {
        "id": "j1kzM42o0ekk"
      },
      "execution_count": null,
      "outputs": []
    }
  ]
}